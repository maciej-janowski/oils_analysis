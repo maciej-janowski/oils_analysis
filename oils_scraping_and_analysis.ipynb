{
 "cells": [
  {
   "cell_type": "code",
   "execution_count": null,
   "metadata": {},
   "outputs": [],
   "source": [
    "import requests\n",
    "import pandas as pd\n",
    "from bs4 import BeautifulSoup\n",
    "import time\n",
    "import re"
   ]
  },
  {
   "cell_type": "code",
   "execution_count": null,
   "metadata": {},
   "outputs": [],
   "source": [
    "# List of URLs from the producer's site\n",
    "list_of_oils = ['https://oleofarm.pl/produkt/olej-konopny-tloczony-na-zimno/',\n",
    "'https://oleofarm.pl/produkt/olej-krokoszowy-tloczony-na-zimno/',\n",
    "'https://oleofarm.pl/produkt/olej-kukurydziany-tloczony-na-zimno/',\n",
    "'https://oleofarm.pl/produkt/olej-lniany-tloczony-na-zimno/',\n",
    "'https://oleofarm.pl/produkt/olej-slonecznikowy-tloczony-na-zimno/',\n",
    "'https://oleofarm.pl/produkt/olej-sezamowy-nierafinowany/',\n",
    "'https://oleofarm.pl/produkt/olej-z-awokado-tloczony-na-zimno/',\n",
    "'https://oleofarm.pl/produkt/olej-z-orzechow-laskowych-nierafinowany/',\n",
    "'https://oleofarm.pl/produkt/olej-z-orzechow-wloskich-tloczony-na-zimno/',\n",
    "'https://oleofarm.pl/produkt/olej-z-pestek-dyni-tloczony-na-zimno/',\n",
    "'https://oleofarm.pl/produkt/olej-z-lnianki/',\n",
    "'https://oleofarm.pl/produkt/olej-z-czarnuszki/',\n",
    "'https://oleofarm.pl/produkt/olej-ryzowy-rafinowany/',\n",
    "'https://oleofarm.pl/produkt/olej-arachidowy-nierafinowany/'\n",
    "]"
   ]
  },
  {
   "cell_type": "code",
   "execution_count": null,
   "metadata": {},
   "outputs": [],
   "source": [
    "# initiating empty DataFrame for further populating with data\n",
    "frame = pd.DataFrame(columns=['Features','Details','Product'])\n",
    "\n",
    "# Looping over the list of URLs to scrape table with nutrition facts\n",
    "for oil in list_of_oils:\n",
    "    # get html from page\n",
    "    r = requests.get(oil)\n",
    "    # wait\n",
    "    time.sleep(5)\n",
    "    # turn text to bs object\n",
    "    soup = BeautifulSoup(r.text)\n",
    "    # create dataframe based on table from html\n",
    "    df = pd.read_html(str(soup.find(\"table\", {\"class\": \"\"})))\n",
    "    df = df[0].rename(columns={0:\"Features\",1:\"Details\"})\n",
    "    # extract name of the product\n",
    "    df['Product'] = re.search('produkt/([^/]*)/',oil).group(1).replace('-',' ').title()\n",
    "    frame = pd.concat([frame,df])"
   ]
  },
  {
   "cell_type": "code",
   "execution_count": null,
   "metadata": {},
   "outputs": [],
   "source": [
    "# Saving dataframe to CSV\n",
    "frame.to_csv('oils.csv')"
   ]
  },
  {
   "cell_type": "code",
   "execution_count": null,
   "metadata": {},
   "outputs": [],
   "source": [
    "# Getting missing oil from different website\n",
    "\n",
    "# sending request\n",
    "r1 = requests.get('https://aptekazawiszy.pl/olej-z-ostropestu-tloczony-na-zimno-250-ml-oleofarm.html')\n",
    "# turning response to bs object\n",
    "soup1 = BeautifulSoup(r1.text)\n",
    "\n",
    "# finding div with nutrition facts\n",
    "div_apteka = soup1.select('div.field:nth-child(4) > div:nth-child(2)')\n",
    "\n",
    "# preparing empty dataframe to append extract data\n",
    "ostropest_frame = pd.DataFrame(columns=['Data'])\n",
    "\n",
    "# looping over all p tags to extract text and append to dataframe\n",
    "for x in div_apteka[0].find_all('p'):\n",
    "    # print(x.text)\n",
    "    ostropest_frame = ostropest_frame.append({'Data':x.text},ignore_index=True)\n",
    "\n",
    "# leaving only relevant data\n",
    "ostropest_frame = ostropest_frame[2:24]\n",
    "\n",
    "# renaming column and addition additional info\n",
    "ostropest_frame = ostropest_frame.rename(columns={'Data':\"Features\"})\n",
    "ostropest_frame['Details'] = ostropest_frame['Features']\n",
    "ostropest_frame['Product'] = 'Olej Z Ostropestu Tloczony Na Zimno'\n",
    "\n",
    "ostropest_frame = ostropest_frame.reset_index(drop=True)\n",
    "\n",
    "# removing empty data and shifting up the rows so that naming of nutrition elements are aligned with their values\n",
    "ostropest_frame.iloc[2:20,1] = ostropest_frame.iloc[2:20,1].shift(-1)\n",
    "\n",
    "ostropest_frame = ostropest_frame.drop([3,5,7,9,11,13,15,17,19])\n",
    "\n"
   ]
  },
  {
   "cell_type": "code",
   "execution_count": null,
   "metadata": {},
   "outputs": [],
   "source": [
    "# extracting data using regex\n",
    "ostropest_frame = ostropest_frame.drop(1)\n",
    "\n",
    "ostropest_frame.iloc[10,0] = re.search('.+?\\)',ostropest_frame.iloc[10,0]).group(0)\n",
    "\n",
    "ostropest_frame.iloc[11,0] = re.search('.+?\\)',ostropest_frame.iloc[11,0]).group(0)\n",
    "\n",
    "ostropest_frame.iloc[10,1] = re.search('\\)\\s(.+)',ostropest_frame.iloc[10,1]).group(1)\n",
    "\n",
    "ostropest_frame.iloc[11,1] = re.search('\\)\\s(.+)',ostropest_frame.iloc[11,1]).group(1)\n",
    "\n",
    "ostropest_frame.iloc[0,1] = re.search('\\d\\d\\d ml',ostropest_frame.iloc[0,1]).group(0)\n",
    "\n",
    "ostropest_frame.iloc[0,0] = re.search('\\w*\\s\\w*',ostropest_frame.iloc[0,0]).group(0)\n",
    "\n",
    "# saving to csv\n",
    "ostropest_frame.to_csv('last oil.csv')\n"
   ]
  },
  {
   "cell_type": "code",
   "execution_count": null,
   "metadata": {},
   "outputs": [],
   "source": [
    "# getting data for argan oil which we want to compare with others\n",
    "r2 = requests.get('https://www.drmax.pl/oleofarm-olej-arganowy-100-ml-100020367')\n",
    "\n",
    "# turning fetched HTML to bs object and loading table to pandas\n",
    "soup3 = BeautifulSoup(r2.text)\n",
    "df3 = pd.read_html(str(soup3.find(\"table\")))\n",
    "\n",
    "# renaming columns and adding one\n",
    "df3 = df3[0].rename(columns={0:\"Features\",1:\"Details\"})\n",
    "\n",
    "df3['Product'] = 'Olej arganowy nierafinowny'.title()"
   ]
  },
  {
   "cell_type": "code",
   "execution_count": null,
   "metadata": {},
   "outputs": [],
   "source": [
    "# concatenating frames into one\n",
    "all_oils = pd.concat([df,ostropest_frame,df3]).drop(columns=['Unnamed: 0'])\n",
    "\n",
    "# saving to csv but now without index\n",
    "all_oils.to_csv('all_oils.csv',index=False)"
   ]
  },
  {
   "cell_type": "code",
   "execution_count": null,
   "metadata": {},
   "outputs": [],
   "source": [
    "# adjusting the text for selected rows\n",
    "all_oils.loc[all_oils['Features'].str.contains('energetyczna'),'Features'] = 'Wartość energetyczna (energia)'\n",
    "\n",
    "# resetting index\n",
    "all_oils = all_oils.reset_index(drop=True)\n",
    "\n",
    "# getting kilocalories from text and assigning to in column\n",
    "all_oils.loc[all_oils['Features'].str.contains('energetyczna'),'Details'] = (all_oils.loc[all_oils['Features'].str.contains('energetyczna'),'Details'].str.extract(r'/(\\d\\d\\d)').astype(int)).squeeze(axis=1)\n",
    "\n",
    "# adjusting text for selected rows by replacing text\n",
    "all_oils['Features'] = all_oils['Features'].replace('Wartość energetyczna (energia)','Wartość energetyczna (energia) w kcal')\n",
    "\n",
    "# removing unnecessary rows\n",
    "final_oils = all_oils[~all_oils['Features'].str.contains('dżywc')]\n",
    "\n",
    "# Adjusting text in rows either by replacing values or extracting text via regular expressions\n",
    "final_oils.loc[final_oils['Features'].str.contains('Węglowodany,'),'Features'] = 'Węglowodany'\n",
    "\n",
    "final_oils.loc[final_oils['Features'].str.contains('Tłuszcz,'),'Features'] = 'Tłuszcz'\n",
    "\n",
    "final_oils.loc[final_oils['Features'].str.contains('kwasy'),'Features'] = final_oils.loc[final_oils['Features'].str.contains('kwasy'),'Features'].str.extract(r'(\\w+\\s?\\w+\\s+\\w+)').squeeze(axis=1).str.title().str.replace(\"  \",\" \")\n",
    "\n",
    "final_oils.loc[final_oils['Features'].str.contains('ukry'),'Features'] = final_oils.loc[final_oils['Features'].str.contains('ukry'),'Features'].str.extract(r'(\\w+)').squeeze(axis=1).str.title()\n",
    "\n",
    "# getting numbers to floats\n",
    "final_oils['Details'] = final_oils['Details'].astype(str).str.replace(\",\",'.')\n",
    "\n",
    "final_oils['Details'] = final_oils['Details'].str.extract(r\"(\\d+.?\\d?)\").astype(float)\n",
    "\n",
    "# cleaning wrong entries\n",
    "final_oils.replace({'Omega – 6 (kwas linolowy)':\"Omega-6 (kwas linolowy)\",'Omega – 9 (kwas oleinowy)':\"Omega-9 (kwas oleinowy)\",'Omega-9 (kwas oleinowy':'Omega-9 (kwas oleinowy)'})\n",
    "final_oils[(final_oils['Product'].isin(['Olej Z Lnianki'])) &(final_oils['Features'].str.contains('6'))]['Features'] = 'Omega-6 (kwas linolowy)'\n",
    "\n",
    "# saving clean data to csv\n",
    "final_oils.to_csv('clean_oils_data.csv',index=False)"
   ]
  }
 ],
 "metadata": {
  "interpreter": {
   "hash": "4432b07ef4f0bb22ace4aed7c401f78903e3a8077ab30b94b650683a8c8765e3"
  },
  "kernelspec": {
   "display_name": "Python 3.8.5 ('base')",
   "language": "python",
   "name": "python3"
  },
  "language_info": {
   "codemirror_mode": {
    "name": "ipython",
    "version": 3
   },
   "file_extension": ".py",
   "mimetype": "text/x-python",
   "name": "python",
   "nbconvert_exporter": "python",
   "pygments_lexer": "ipython3",
   "version": "3.8.5"
  },
  "orig_nbformat": 4
 },
 "nbformat": 4,
 "nbformat_minor": 2
}
